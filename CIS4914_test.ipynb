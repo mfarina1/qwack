{
 "cells": [
  {
   "cell_type": "code",
   "execution_count": 1,
   "metadata": {},
   "outputs": [
    {
     "name": "stdout",
     "output_type": "stream",
     "text": [
      "Requirement already up-to-date: pygame in /Users/rishichalla/.local/lib/python3.8/site-packages (2.0.1)\n",
      "Note: you may need to restart the kernel to use updated packages.\n"
     ]
    }
   ],
   "source": [
    "pip install -U pygame --user"
   ]
  },
  {
   "cell_type": "code",
   "execution_count": 2,
   "metadata": {},
   "outputs": [
    {
     "name": "stdout",
     "output_type": "stream",
     "text": [
      "pygame 2.0.1 (SDL 2.0.14, Python 3.8.5)\n",
      "Hello from the pygame community. https://www.pygame.org/contribute.html\n"
     ]
    }
   ],
   "source": [
    "import pygame, sys\n",
    "from pygame.locals import *\n",
    "import io\n",
    "from urllib.request import urlopen\n",
    "from random import randint"
   ]
  },
  {
   "cell_type": "code",
   "execution_count": 3,
   "metadata": {},
   "outputs": [],
   "source": [
    "#conda install -c cogsci pygame"
   ]
  },
  {
   "cell_type": "code",
   "execution_count": 4,
   "metadata": {},
   "outputs": [
    {
     "data": {
      "text/plain": [
       "(7, 0)"
      ]
     },
     "execution_count": 4,
     "metadata": {},
     "output_type": "execute_result"
    }
   ],
   "source": [
    "pygame.init()"
   ]
  },
  {
   "cell_type": "code",
   "execution_count": 5,
   "metadata": {},
   "outputs": [],
   "source": [
    "screen = pygame.display.set_mode((800, 600))"
   ]
  },
  {
   "cell_type": "code",
   "execution_count": 6,
   "metadata": {},
   "outputs": [],
   "source": [
    "running = True"
   ]
  },
  {
   "cell_type": "code",
   "execution_count": 7,
   "metadata": {},
   "outputs": [],
   "source": [
    "pygame.display.set_caption(\"Qwack\")\n",
    "icon = pygame.image.load('./duck.png')\n",
    "pygame.display.set_icon(icon)\n",
    "fontTitle = pygame.font.SysFont(None, 125)\n",
    "fontSubHeader = pygame.font.SysFont(None, 50)\n",
    "text = pygame.font.SysFont(None, 25)\n",
    "mainClock = pygame.time.Clock()\n",
    "bg = pygame.image.load(\"./qwackBg.jpg\")\n",
    "click = False\n",
    "themeColor = (255,255,0)"
   ]
  },
  {
   "cell_type": "code",
   "execution_count": 8,
   "metadata": {},
   "outputs": [],
   "source": [
    "#icon\n",
    "global iconX, iconY, velocity\n",
    "iconX = 370\n",
    "iconY = 480\n",
    "velocity = [randint(3,4),randint(-4,4)]"
   ]
  },
  {
   "cell_type": "code",
   "execution_count": 9,
   "metadata": {},
   "outputs": [],
   "source": [
    "def draw_text(text, font, color, surface, x, y):\n",
    "    textObj = font.render(text,1,color)\n",
    "    textRect = textObj.get_rect()\n",
    "    textRect.topleft = (x,y)\n",
    "    surface.blit(textObj, textRect)"
   ]
  },
  {
   "cell_type": "code",
   "execution_count": 10,
   "metadata": {},
   "outputs": [],
   "source": [
    "def Icon(x,y):\n",
    "    screen.blit(icon, (x, y))"
   ]
  },
  {
   "cell_type": "code",
   "execution_count": 11,
   "metadata": {},
   "outputs": [],
   "source": [
    "def main_menu(iconX, iconY):\n",
    "    while True:\n",
    "        \n",
    "        # Setup\n",
    "        screen.blit(bg, (0,0))\n",
    "        mx, my = pygame.mouse.get_pos()\n",
    "        \n",
    "        #icon bouncing in background\n",
    "        if iconX >= 785:\n",
    "            velocity[0] = -velocity[0]\n",
    "        if iconX <= 0:\n",
    "            velocity[0] = -velocity[0]\n",
    "        if iconY > 585:\n",
    "            velocity[1] = -velocity[1]\n",
    "        if iconY < 0:\n",
    "            velocity[1] = -velocity[1] \n",
    "            \n",
    "            \n",
    "        iconX += velocity[0]\n",
    "        iconY += velocity[1]\n",
    "        Icon(iconX, iconY)\n",
    "        \n",
    "        # Buttons\n",
    "        button_1 = pygame.Rect(65, 140, 230, 45)\n",
    "        button_2 = pygame.Rect(65, 215, 230, 45)\n",
    "        button_3 = pygame.Rect(65, 290, 230, 45)\n",
    "        \n",
    "        if button_1.collidepoint((mx, my)):\n",
    "            if click:\n",
    "                level_select(iconX, iconY)\n",
    "        if button_2.collidepoint((mx, my)):\n",
    "            if click:\n",
    "                Controls(iconX, iconY)\n",
    "        if button_3.collidepoint((mx, my)):\n",
    "            if click:\n",
    "                about_us(iconX, iconY)\n",
    "        pygame.draw.rect(screen, themeColor, button_1)\n",
    "        pygame.draw.rect(screen, themeColor, button_2)\n",
    "        pygame.draw.rect(screen, themeColor, button_3)\n",
    "        \n",
    "        # Text\n",
    "        draw_text(\"Qwack\", fontTitle, themeColor, screen, 260, 15)\n",
    "        draw_text(\"Level Select\", fontSubHeader, (0, 0, 0), screen, 75, 150)\n",
    "        draw_text(\"Controls\", fontSubHeader, (0, 0, 0), screen, 75, 225)\n",
    "        draw_text(\"About Us\", fontSubHeader, (0, 0, 0), screen, 75, 300)\n",
    "        \n",
    "        # Event Handling\n",
    "        click = False\n",
    "        for event in pygame.event.get():\n",
    "            if event.type == QUIT:\n",
    "                pygame.quit()\n",
    "                sys.exit()\n",
    "            if event.type == KEYDOWN:\n",
    "                if event.key == K_ESCAPE:\n",
    "                    pygame.quit()\n",
    "                    sys.exit()\n",
    "            if event.type == MOUSEBUTTONDOWN:\n",
    "                if event.button == 1:\n",
    "                    click = True\n",
    "                    # print(mx, my)\n",
    "        pygame.display.update()\n",
    "        mainClock.tick(60) "
   ]
  },
  {
   "cell_type": "code",
   "execution_count": 12,
   "metadata": {},
   "outputs": [],
   "source": [
    "def level_select(iconX, iconY):\n",
    "    running = True\n",
    "    while running:\n",
    "        screen.fill((0,0,0))\n",
    "        screen.blit(bg, (0,0))\n",
    "        \n",
    "        #icon bouncing in background\n",
    "        if iconX >= 785:\n",
    "            velocity[0] = -velocity[0]\n",
    "        if iconX <= 0:\n",
    "            velocity[0] = -velocity[0]\n",
    "        if iconY > 585:\n",
    "            velocity[1] = -velocity[1]\n",
    "        if iconY < 0:\n",
    "            velocity[1] = -velocity[1] \n",
    "            \n",
    "            \n",
    "        iconX += velocity[0]\n",
    "        iconY += velocity[1]\n",
    "        Icon(iconX, iconY)\n",
    "        \n",
    "        draw_text(\"Qwack\", fontTitle, themeColor, screen, 262, 15)\n",
    "        draw_text(\"Level Select\", fontSubHeader, (255, 255, 255), screen, 307, 110)\n",
    "        draw_text(\"___________\", fontSubHeader, (255, 255, 255), screen, 307.25, 112)\n",
    "        draw_text(\"Level 1: Entanglement\", text, (255, 255, 255), screen, 75, 175)\n",
    "        draw_text(\"Level 2:\", text, (255, 255, 255), screen, 75, 225)\n",
    "        draw_text(\"Level 3:\", text, (255, 255, 255), screen, 75, 275)\n",
    "        draw_text(\"Level 4:\", text, (255, 255, 255), screen, 75, 325)\n",
    "        draw_text(\"Level 5:\", text, (255, 255, 255), screen, 75, 375)\n",
    "        draw_text(\"Level 6:\", text, (255, 255, 255), screen, 75, 425)\n",
    "        for event in pygame.event.get():\n",
    "            if event.type == QUIT:\n",
    "                pygame.quit()\n",
    "                sys.exit()\n",
    "            if event.type == KEYDOWN:\n",
    "                if event.key == K_ESCAPE:\n",
    "                    running = False\n",
    "                    \n",
    "        pygame.display.update()\n",
    "        mainClock.tick(60)"
   ]
  },
  {
   "cell_type": "code",
   "execution_count": 13,
   "metadata": {},
   "outputs": [],
   "source": [
    "def Controls(iconX, iconY):\n",
    "    running = True\n",
    "    while running:\n",
    "        screen.fill((0,0,0))\n",
    "        screen.blit(bg, (0,0))\n",
    "        \n",
    "        #icon bouncing in background\n",
    "        if iconX >= 785:\n",
    "            velocity[0] = -velocity[0]\n",
    "        if iconX <= 0:\n",
    "            velocity[0] = -velocity[0]\n",
    "        if iconY > 585:\n",
    "            velocity[1] = -velocity[1]\n",
    "        if iconY < 0:\n",
    "            velocity[1] = -velocity[1] \n",
    "            \n",
    "            \n",
    "        iconX += velocity[0]\n",
    "        iconY += velocity[1]\n",
    "        Icon(iconX, iconY)\n",
    "        \n",
    "        draw_text(\"Qwack\", fontTitle, themeColor, screen, 262, 15)\n",
    "        draw_text(\"Controls\", fontSubHeader, (255, 255, 255), screen, 307, 110)\n",
    "        draw_text(\"________\", fontSubHeader, (255, 255, 255), screen, 307.25, 112)\n",
    "        for event in pygame.event.get():\n",
    "            if event.type == QUIT:\n",
    "                pygame.quit()\n",
    "                sys.exit()\n",
    "            if event.type == KEYDOWN:\n",
    "                if event.key == K_ESCAPE:\n",
    "                    running = False\n",
    "                    \n",
    "        pygame.display.update()\n",
    "        mainClock.tick(60) "
   ]
  },
  {
   "cell_type": "code",
   "execution_count": 14,
   "metadata": {},
   "outputs": [],
   "source": [
    "def about_us(iconX, iconY):\n",
    "    running = True\n",
    "    while running:\n",
    "        screen.fill((0,0,0))\n",
    "        screen.blit(bg, (0,0))\n",
    "        \n",
    "        #icon bouncing in background\n",
    "        if iconX >= 785:\n",
    "            velocity[0] = -velocity[0]\n",
    "        if iconX <= 0:\n",
    "            velocity[0] = -velocity[0]\n",
    "        if iconY > 585:\n",
    "            velocity[1] = -velocity[1]\n",
    "        if iconY < 0:\n",
    "            velocity[1] = -velocity[1] \n",
    "            \n",
    "            \n",
    "        iconX += velocity[0]\n",
    "        iconY += velocity[1]\n",
    "        Icon(iconX, iconY)\n",
    "        \n",
    "        draw_text(\"Qwack\", fontTitle, themeColor, screen, 262, 15)\n",
    "        draw_text(\"About Us\", fontSubHeader, (255, 255, 255), screen, 307, 110)\n",
    "        draw_text(\"________\", fontSubHeader, (255, 255, 255), screen, 307.25, 112)\n",
    "        for event in pygame.event.get():\n",
    "            if event.type == QUIT:\n",
    "                pygame.quit()\n",
    "                sys.exit()\n",
    "            if event.type == KEYDOWN:\n",
    "                if event.key == K_ESCAPE:\n",
    "                    running = False\n",
    "                    \n",
    "        pygame.display.update()\n",
    "        mainClock.tick(60) "
   ]
  },
  {
   "cell_type": "code",
   "execution_count": 15,
   "metadata": {},
   "outputs": [
    {
     "ename": "SystemExit",
     "evalue": "",
     "output_type": "error",
     "traceback": [
      "An exception has occurred, use %tb to see the full traceback.\n",
      "\u001b[0;31mSystemExit\u001b[0m\n"
     ]
    },
    {
     "name": "stderr",
     "output_type": "stream",
     "text": [
      "/Users/rishichalla/opt/anaconda3/lib/python3.8/site-packages/IPython/core/interactiveshell.py:3426: UserWarning: To exit: use 'exit', 'quit', or Ctrl-D.\n",
      "  warn(\"To exit: use 'exit', 'quit', or Ctrl-D.\", stacklevel=1)\n"
     ]
    }
   ],
   "source": [
    "# Game Loop\n",
    "main_menu(iconX, iconY)"
   ]
  },
  {
   "cell_type": "code",
   "execution_count": null,
   "metadata": {},
   "outputs": [],
   "source": []
  }
 ],
 "metadata": {
  "kernelspec": {
   "display_name": "Python 3",
   "language": "python",
   "name": "python3"
  },
  "language_info": {
   "codemirror_mode": {
    "name": "ipython",
    "version": 3
   },
   "file_extension": ".py",
   "mimetype": "text/x-python",
   "name": "python",
   "nbconvert_exporter": "python",
   "pygments_lexer": "ipython3",
   "version": "3.8.5"
  }
 },
 "nbformat": 4,
 "nbformat_minor": 4
}
