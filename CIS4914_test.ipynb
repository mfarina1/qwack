{
 "cells": [
  {
   "cell_type": "code",
   "execution_count": 1,
   "metadata": {},
   "outputs": [
    {
     "name": "stdout",
     "output_type": "stream",
     "text": [
<<<<<<< HEAD
      "Requirement already up-to-date: pygame in /Users/madelinefarina/opt/anaconda3/lib/python3.8/site-packages (2.0.1)\n",
=======
      "Requirement already up-to-date: pygame in c:\\users\\goodr\\appdata\\roaming\\python\\python38\\site-packages (2.0.1)\n",
>>>>>>> bbb8b2e1f933a1a29e06ef4ae0fd0933b3b8530c
      "Note: you may need to restart the kernel to use updated packages.\n"
     ]
    }
   ],
   "source": [
    "pip install -U pygame --user"
   ]
  },
  {
   "cell_type": "code",
   "execution_count": 2,
   "metadata": {},
   "outputs": [
    {
     "name": "stdout",
     "output_type": "stream",
     "text": [
      "pygame 2.0.1 (SDL 2.0.14, Python 3.8.3)\n",
      "Hello from the pygame community. https://www.pygame.org/contribute.html\n"
     ]
    }
   ],
   "source": [
    "import pygame, sys\n",
    "from pygame.locals import *\n",
    "import io\n",
    "from urllib.request import urlopen"
   ]
  },
  {
   "cell_type": "code",
   "execution_count": 3,
   "metadata": {},
   "outputs": [],
   "source": [
    "#conda install -c cogsci pygame"
   ]
  },
  {
   "cell_type": "code",
   "execution_count": 4,
   "metadata": {},
   "outputs": [
    {
     "data": {
      "text/plain": [
       "(7, 0)"
      ]
     },
     "execution_count": 4,
     "metadata": {},
     "output_type": "execute_result"
    }
   ],
   "source": [
    "pygame.init()"
   ]
  },
  {
   "cell_type": "code",
   "execution_count": 5,
   "metadata": {},
   "outputs": [],
   "source": [
    "#dimensions of game screen\n",
    "screen = pygame.display.set_mode((800, 600))"
   ]
  },
  {
   "cell_type": "code",
   "execution_count": 6,
   "metadata": {},
   "outputs": [],
   "source": [
    "running = True"
   ]
  },
  {
   "cell_type": "code",
   "execution_count": 7,
   "metadata": {},
   "outputs": [],
   "source": [
    "pygame.display.set_caption(\"Qwack\")\n",
    "icon = pygame.image.load('./duck.png')\n",
    "pygame.display.set_icon(icon)\n",
    "fontTitle = pygame.font.SysFont(None, 125)\n",
    "fontSubHeader = pygame.font.SysFont(None, 50)\n",
    "text = pygame.font.SysFont(None, 25)\n",
    "mainClock = pygame.time.Clock()\n",
    "bg = pygame.image.load(\"./qwackBg.jpg\")\n",
    "click = False\n",
    "themeColor = (255,255,0)"
   ]
  },
  {
   "cell_type": "code",
   "execution_count": 8,
   "metadata": {},
   "outputs": [],
   "source": [
    "#player\n",
    "playerX = 370\n",
    "playerY = 480\n",
    "playerX_change = 0\n",
    "playerY_change = 0"
   ]
  },
  {
   "cell_type": "code",
   "execution_count": 9,
   "metadata": {},
   "outputs": [],
   "source": [
    "def draw_text(text, font, color, surface, x, y):\n",
    "    textObj = font.render(text,1,color)\n",
    "    textRect = textObj.get_rect()\n",
    "    textRect.topleft = (x,y)\n",
    "    surface.blit(textObj, textRect)"
   ]
  },
  {
   "cell_type": "code",
   "execution_count": 10,
   "metadata": {},
   "outputs": [],
   "source": [
    "def player(x,y):\n",
    "    screen.blit(icon, (x, y))"
   ]
  },
  {
   "cell_type": "code",
   "execution_count": 11,
   "metadata": {},
   "outputs": [],
   "source": [
    "def main_menu():\n",
    "    while True:\n",
    "        \n",
    "        # Setup\n",
    "        screen.blit(bg, (0,0))\n",
    "        mx, my = pygame.mouse.get_pos()\n",
    "        \n",
    "        \n",
    "        \n",
    "        # Buttons\n",
    "        button_1 = pygame.Rect(65, 140, 230, 45)\n",
    "        button_2 = pygame.Rect(65, 215, 230, 45)\n",
    "        button_3 = pygame.Rect(65, 290, 230, 45)\n",
    "        \n",
    "        if button_1.collidepoint((mx, my)):\n",
    "            if click:\n",
    "                level_select()\n",
    "        if button_2.collidepoint((mx, my)):\n",
    "            if click:\n",
    "                Controls()\n",
    "        if button_3.collidepoint((mx, my)):\n",
    "            if click:\n",
    "                about_us()\n",
    "        pygame.draw.rect(screen, themeColor, button_1)\n",
    "        pygame.draw.rect(screen, themeColor, button_2)\n",
    "        pygame.draw.rect(screen, themeColor, button_3)\n",
    "        \n",
    "        # Text\n",
    "        draw_text(\"Qwack\", fontTitle, themeColor, screen, 260, 15)\n",
    "        draw_text(\"Level Select\", fontSubHeader, (0, 0, 0), screen, 75, 150)\n",
    "        draw_text(\"Controls\", fontSubHeader, (0, 0, 0), screen, 75, 225)\n",
    "        draw_text(\"About Us\", fontSubHeader, (0, 0, 0), screen, 75, 300)\n",
    "        \n",
    "        # Event Handling\n",
    "        click = False\n",
    "        for event in pygame.event.get():\n",
    "            if event.type == QUIT:\n",
    "                pygame.quit()\n",
    "                sys.exit()\n",
    "            if event.type == KEYDOWN:\n",
    "                if event.key == K_ESCAPE:\n",
    "                    pygame.quit()\n",
    "                    sys.exit()\n",
    "            if event.type == MOUSEBUTTONDOWN:\n",
    "                if event.button == 1:\n",
    "                    click = True\n",
    "                    # print(mx, my)\n",
    "        pygame.display.update()\n",
    "        mainClock.tick(60) "
   ]
  },
  {
   "cell_type": "code",
   "execution_count": 12,
   "metadata": {},
   "outputs": [],
   "source": [
    "def level_select():\n",
    "    running = True\n",
    "    while running:\n",
    "        screen.fill((0,0,0))\n",
    "        screen.blit(bg, (0,0))\n",
    "        draw_text(\"Qwack\", fontTitle, themeColor, screen, 262, 15)\n",
    "        draw_text(\"Level Select\", fontSubHeader, (255, 255, 255), screen, 307, 110)\n",
    "        draw_text(\"___________\", fontSubHeader, (255, 255, 255), screen, 307.25, 112)\n",
    "        draw_text(\"Level 1: Entanglement\", text, (255, 255, 255), screen, 75, 175)\n",
    "        draw_text(\"Level 2:\", text, (255, 255, 255), screen, 75, 225)\n",
    "        draw_text(\"Level 3:\", text, (255, 255, 255), screen, 75, 275)\n",
    "        draw_text(\"Level 4:\", text, (255, 255, 255), screen, 75, 325)\n",
    "        draw_text(\"Level 5:\", text, (255, 255, 255), screen, 75, 375)\n",
    "        draw_text(\"Level 6:\", text, (255, 255, 255), screen, 75, 425)\n",
    "        for event in pygame.event.get():\n",
    "            if event.type == QUIT:\n",
    "                pygame.quit()\n",
    "                sys.exit()\n",
    "            if event.type == KEYDOWN:\n",
    "                if event.key == K_ESCAPE:\n",
    "                    running = False\n",
    "                    \n",
    "        pygame.display.update()\n",
    "        mainClock.tick(60)"
   ]
  },
  {
   "cell_type": "code",
   "execution_count": 13,
   "metadata": {},
   "outputs": [],
   "source": [
    "def Controls():\n",
    "    running = True\n",
    "    while running:\n",
    "        screen.fill((0,0,0))\n",
    "        screen.blit(bg, (0,0))\n",
    "        draw_text(\"Qwack\", fontTitle, themeColor, screen, 262, 15)\n",
    "        draw_text(\"Controls\", fontSubHeader, (255, 255, 255), screen, 307, 110)\n",
    "        draw_text(\"________\", fontSubHeader, (255, 255, 255), screen, 307.25, 112)\n",
    "        for event in pygame.event.get():\n",
    "            if event.type == QUIT:\n",
    "                pygame.quit()\n",
    "                sys.exit()\n",
    "            if event.type == KEYDOWN:\n",
    "                if event.key == K_ESCAPE:\n",
    "                    running = False\n",
    "                    \n",
    "        pygame.display.update()\n",
    "        mainClock.tick(60) "
   ]
  },
  {
   "cell_type": "code",
   "execution_count": 14,
   "metadata": {},
   "outputs": [],
   "source": [
    "def about_us():\n",
    "    running = True\n",
    "    while running:\n",
    "        screen.fill((0,0,0))\n",
    "        screen.blit(bg, (0,0))\n",
    "        draw_text(\"Qwack\", fontTitle, themeColor, screen, 262, 15)\n",
    "        draw_text(\"About Us\", fontSubHeader, (255, 255, 255), screen, 307, 110)\n",
    "        draw_text(\"________\", fontSubHeader, (255, 255, 255), screen, 307.25, 112)\n",
    "        for event in pygame.event.get():\n",
    "            if event.type == QUIT:\n",
    "                pygame.quit()\n",
    "                sys.exit()\n",
    "            if event.type == KEYDOWN:\n",
    "                if event.key == K_ESCAPE:\n",
    "                    running = False\n",
    "                    \n",
    "        pygame.display.update()\n",
    "        mainClock.tick(60) "
   ]
  },
  {
   "cell_type": "code",
   "execution_count": 15,
   "metadata": {},
   "outputs": [
    {
     "ename": "SystemExit",
     "evalue": "",
     "output_type": "error",
     "traceback": [
      "An exception has occurred, use %tb to see the full traceback.\n",
<<<<<<< HEAD
      "\u001b[0;31mSystemExit\u001b[0m\n"
=======
      "\u001b[1;31mSystemExit\u001b[0m\n"
>>>>>>> bbb8b2e1f933a1a29e06ef4ae0fd0933b3b8530c
     ]
    },
    {
     "name": "stderr",
     "output_type": "stream",
     "text": [
<<<<<<< HEAD
      "/Users/madelinefarina/opt/anaconda3/lib/python3.8/site-packages/IPython/core/interactiveshell.py:3351: UserWarning: To exit: use 'exit', 'quit', or Ctrl-D.\n",
=======
      "C:\\Users\\goodr\\anaconda3\\lib\\site-packages\\IPython\\core\\interactiveshell.py:3426: UserWarning: To exit: use 'exit', 'quit', or Ctrl-D.\n",
>>>>>>> bbb8b2e1f933a1a29e06ef4ae0fd0933b3b8530c
      "  warn(\"To exit: use 'exit', 'quit', or Ctrl-D.\", stacklevel=1)\n"
     ]
    }
   ],
   "source": [
    "# Game Loop\n",
    "main_menu()"
   ]
  },
  {
   "cell_type": "code",
   "execution_count": 2,
   "metadata": {},
   "outputs": [
    {
     "name": "stdout",
     "output_type": "stream",
     "text": [
      "fatal: invalid gitfile format: CIS4914_test.ipynb\r\n",
      "fatal: Could not read from remote repository.\r\n",
      "\r\n",
      "Please make sure you have the correct access rights\r\n",
      "and the repository exists.\r\n"
     ]
    }
   ],
   "source": []
  },
  {
   "cell_type": "code",
   "execution_count": null,
   "metadata": {},
   "outputs": [],
   "source": []
  }
 ],
 "metadata": {
  "kernelspec": {
   "display_name": "Python 3",
   "language": "python",
   "name": "python3"
  },
  "language_info": {
   "codemirror_mode": {
    "name": "ipython",
    "version": 3
   },
   "file_extension": ".py",
   "mimetype": "text/x-python",
   "name": "python",
   "nbconvert_exporter": "python",
   "pygments_lexer": "ipython3",
   "version": "3.8.3"
  }
 },
 "nbformat": 4,
 "nbformat_minor": 4
}
