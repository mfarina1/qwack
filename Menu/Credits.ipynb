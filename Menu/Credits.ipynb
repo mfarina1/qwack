{
 "cells": [
  {
   "cell_type": "code",
   "execution_count": null,
   "metadata": {},
   "outputs": [],
   "source": [
    "def Credits(iconX, iconY, isAlive):\n",
    "    screenHeader = pygame.font.SysFont('comicsans', 70)\n",
    "    names = pygame.font.SysFont(None, 30)\n",
    "    running = True\n",
    "    while running:\n",
    "        screen.fill((0,0,0))\n",
    "        screen.blit(bg, (0,0))\n",
    "        mx, my = pygame.mouse.get_pos()\n",
    "        \n",
    "        #icon bouncing in background\n",
    "        if iconX >= 785:\n",
    "            velocity[0] = -velocity[0]\n",
    "        if iconX <= 0:\n",
    "            velocity[0] = -velocity[0]\n",
    "        if iconY > 585:\n",
    "            velocity[1] = -velocity[1]\n",
    "        if iconY < 0:\n",
    "            velocity[1] = -velocity[1] \n",
    "            \n",
    "            \n",
    "        iconX += velocity[0]\n",
    "        iconY += velocity[1]\n",
    "        if isAlive:\n",
    "            duck_button = Icon(icon, iconX, iconY)\n",
    "        \n",
    "        home_button = draw_text(\"Qwack\", fontTitle, themeColor, screen, 262, 15)\n",
    "        esc_button = draw_text(\"Press Esc To Return\", text, themeColor, screen, 10, 15)\n",
    "        draw_text(\"Credits\", fontSubHeader, (255, 255, 255), screen, 340, 110)\n",
    "        draw_text(\"_______\", fontSubHeader, (255, 255, 255), screen, 340, 112)\n",
    "        \n",
    "        draw_text(\"Authors:\", screenHeader, themeColor, screen, 50, 170)\n",
    "        \n",
    "        start_game_button = draw_text(\"Madeline Farina: Project Manager/Level Developer\", names, (255, 255, 255), screen, 75, 250)\n",
    "        controls_button = draw_text(\"Adam Van Belkum: Game Designer/Level Developer\", names,(255, 255, 255), screen, 75, 290)\n",
    "        credits_button = draw_text(\"Rishi Challa: Lead Game Developer\", names,(255, 255, 255), screen, 75, 330)\n",
    "        \n",
    "        click = False\n",
    "        for event in pygame.event.get():\n",
    "            if event.type == QUIT:\n",
    "                pygame.quit()\n",
    "                sys.exit()\n",
    "            if event.type == KEYDOWN:\n",
    "                if event.key == K_ESCAPE:\n",
    "                    running = False\n",
    "            if event.type == MOUSEBUTTONDOWN:\n",
    "                if event.button == 1:\n",
    "                    click = True        \n",
    "        if home_button.collidepoint((mx, my)) or esc_button.collidepoint((mx, my)):\n",
    "            if click:\n",
    "                main_menu(iconX, iconY, isAlive) \n",
    "                    \n",
    "        pygame.display.update()\n",
    "        mainClock.tick(60) "
   ]
  }
 ],
 "metadata": {
  "kernelspec": {
   "display_name": "Python 3",
   "language": "python",
   "name": "python3"
  },
  "language_info": {
   "codemirror_mode": {
    "name": "ipython",
    "version": 3
   },
   "file_extension": ".py",
   "mimetype": "text/x-python",
   "name": "python",
   "nbconvert_exporter": "python",
   "pygments_lexer": "ipython3",
   "version": "3.9.0"
  }
 },
 "nbformat": 4,
 "nbformat_minor": 4
}
