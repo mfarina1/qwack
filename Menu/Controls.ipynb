{
 "cells": [
  {
   "cell_type": "code",
   "execution_count": null,
   "metadata": {},
   "outputs": [],
   "source": [
    "def Controls(iconX, iconY, isAlive):\n",
    "    running = True\n",
    "    while running:\n",
    "        screen.fill((0,0,0))\n",
    "        screen.blit(bg, (0,0))\n",
    "        mx, my = pygame.mouse.get_pos()\n",
    "        \n",
    "        #icon bouncing in background\n",
    "        if iconX >= 785:\n",
    "            velocity[0] = -velocity[0]\n",
    "        if iconX <= 0:\n",
    "            velocity[0] = -velocity[0]\n",
    "        if iconY > 585:\n",
    "            velocity[1] = -velocity[1]\n",
    "        if iconY < 0:\n",
    "            velocity[1] = -velocity[1] \n",
    "            \n",
    "            \n",
    "        iconX += velocity[0]\n",
    "        iconY += velocity[1]\n",
    "        if isAlive:\n",
    "            duck_button = Icon(icon, iconX, iconY)\n",
    "        \n",
    "        home_button = draw_text(\"Qwack\", fontTitle, themeColor, screen, 262, 15)\n",
    "        esc_button = draw_text(\"Press Esc To Return\", text, themeColor, screen, 10, 15)\n",
    "        draw_text(\"Controls\", fontSubHeader, (255, 255, 255), screen, 335, 110)\n",
    "        draw_text(\"________\", fontSubHeader, (255, 255, 255), screen, 336, 112)\n",
    "        \n",
    "        click = False\n",
    "        for event in pygame.event.get():\n",
    "            if event.type == QUIT:\n",
    "                pygame.quit()\n",
    "                sys.exit()\n",
    "            if event.type == KEYDOWN:\n",
    "                if event.key == K_ESCAPE:\n",
    "                    running = False\n",
    "            if event.type == MOUSEBUTTONDOWN:\n",
    "                if event.button == 1:\n",
    "                    click = True        \n",
    "        if home_button.collidepoint((mx, my)) or esc_button.collidepoint((mx, my)):\n",
    "            if click:\n",
    "                main_menu(iconX, iconY, isAlive) \n",
    "                \n",
    "        pygame.display.update()\n",
    "        mainClock.tick(60) "
   ]
  }
 ],
 "metadata": {
  "kernelspec": {
   "display_name": "Python 3",
   "language": "python",
   "name": "python3"
  },
  "language_info": {
   "codemirror_mode": {
    "name": "ipython",
    "version": 3
   },
   "file_extension": ".py",
   "mimetype": "text/x-python",
   "name": "python",
   "nbconvert_exporter": "python",
   "pygments_lexer": "ipython3",
   "version": "3.8.3"
  }
 },
 "nbformat": 4,
 "nbformat_minor": 4
}
