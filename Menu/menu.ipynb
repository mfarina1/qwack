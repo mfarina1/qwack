{
 "cells": [
  {
   "cell_type": "code",
   "execution_count": 1,
   "metadata": {},
   "outputs": [
    {
     "name": "stdout",
     "output_type": "stream",
     "text": [
      "Requirement already satisfied: pygame in c:\\users\\goodr\\appdata\\roaming\\python\\python39\\site-packages (2.0.1)\n",
      "Note: you may need to restart the kernel to use updated packages.\n"
     ]
    }
   ],
   "source": [
    "pip install -U pygame --user"
   ]
  },
  {
   "cell_type": "code",
   "execution_count": 2,
   "metadata": {},
   "outputs": [],
   "source": [
    "# pip install qiskit"
   ]
  },
  {
   "cell_type": "code",
   "execution_count": 3,
   "metadata": {},
   "outputs": [
    {
     "name": "stdout",
     "output_type": "stream",
     "text": [
      "pygame 2.0.1 (SDL 2.0.14, Python 3.9.0)\n",
      "Hello from the pygame community. https://www.pygame.org/contribute.html\n"
     ]
    }
   ],
   "source": [
    "import pygame, sys\n",
    "from pygame.locals import *\n",
    "import io\n",
    "import math\n",
    "import time\n",
    "import pygame.math as pyMath\n",
    "from urllib.request import urlopen\n",
    "from random import randint\n",
    "import qiskit\n",
    "from qiskit import *\n",
    "\n",
    "#import menu\n",
    "%run Credits.ipynb\n",
    "%run Controls.ipynb\n",
    "%run level_select.ipynb\n",
    "\n",
    "#import Levels\n",
    "%run ../Levels/Level_0.ipynb\n",
    "%run ../Levels/Level_Entanglement.ipynb\n",
    "%run ../Levels/Classical_Teleportation.ipynb\n",
    "%run ../Levels/Level_1.ipynb\n",
    "%run ../Levels/Level_2_Superposition.ipynb"
   ]
  },
  {
   "cell_type": "code",
   "execution_count": 4,
   "metadata": {},
   "outputs": [],
   "source": [
    "#conda install -c cogsci pygame"
   ]
  },
  {
   "cell_type": "code",
   "execution_count": 5,
   "metadata": {},
   "outputs": [
    {
     "data": {
      "text/plain": [
       "(7, 0)"
      ]
     },
     "execution_count": 5,
     "metadata": {},
     "output_type": "execute_result"
    }
   ],
   "source": [
    "pygame.init()"
   ]
  },
  {
   "cell_type": "code",
   "execution_count": 6,
   "metadata": {},
   "outputs": [],
   "source": [
    "screen = pygame.display.set_mode((800, 600))"
   ]
  },
  {
   "cell_type": "code",
   "execution_count": 7,
   "metadata": {},
   "outputs": [],
   "source": [
    "running = True\n",
    "isAlive = True"
   ]
  },
  {
   "cell_type": "code",
   "execution_count": 8,
   "metadata": {},
   "outputs": [],
   "source": [
    "#Sprites\n",
    "icon_load = pygame.image.load('../Images/Duck_2_2.png')\n",
    "icon = pygame.transform.scale(icon_load, (64, 64))"
   ]
  },
  {
   "cell_type": "code",
   "execution_count": 9,
   "metadata": {},
   "outputs": [],
   "source": [
    "#Backgrounds\n",
    "## Menu\n",
    "load_bg = pygame.image.load(\"../Images/bg.png\")\n",
    "blackHole_img = pygame.image.load(\"../Images/blackHole.jpg\")\n",
    "blackHole_bg = pygame.transform.scale(blackHole_img, (800, 600))\n",
    "bg = pygame.transform.scale(load_bg, (800, 600))\n",
    "## Level 0: Tutorial\n",
    "level0_load = pygame.image.load(\"../Images/level1.jpg\")\n",
    "level0 = pygame.transform.scale(level0_load, (800, 600))\n",
    "\n",
    "## Level 2: Entanglement\n",
    "# level_entanglement = pygame.image.load(\"../Images/entanglementBg.png\")\n",
    "# entanglement_bg = pygame.transform.scale(level_entanglement, (800, 600))\n",
    "tp_img = pygame.image.load(\"../Images/tp.png\")\n",
    "tp = pygame.transform.scale(tp_img, (64, 64))"
   ]
  },
  {
   "cell_type": "code",
   "execution_count": 10,
   "metadata": {},
   "outputs": [],
   "source": [
    "#Global Variables\n",
    "pygame.display.set_caption(\"Qwack\")\n",
    "meme = pygame.image.load('../Images/qwackMeme.jpg')\n",
    "pygame.display.set_icon(meme)\n",
    "\n",
    "fontTitle = pygame.font.SysFont(\"broadway\", 75)\n",
    "fontSubHeader = pygame.font.SysFont(None, 50)\n",
    "text = pygame.font.SysFont(None, 25)\n",
    "textControl = pygame.font.SysFont(None, 35)\n",
    "\n",
    "\n",
    "\n",
    "mainClock = pygame.time.Clock()\n",
    "\n",
    "display = True\n",
    "click = False\n",
    "themeColor = (243,156,18)\n",
    "\n"
   ]
  },
  {
   "cell_type": "code",
   "execution_count": 11,
   "metadata": {},
   "outputs": [],
   "source": [
    "def draw_text(text, font, color, surface, x, y):\n",
    "    textObj = font.render(text,1,color)\n",
    "    textRect = textObj.get_rect()\n",
    "    textRect.topleft = (x,y)\n",
    "    surface.blit(textObj, textRect)\n",
    "    return textRect"
   ]
  },
  {
   "cell_type": "code",
   "execution_count": 12,
   "metadata": {},
   "outputs": [],
   "source": [
    "#icon\n",
    "global iconX, iconY, velocity\n",
    "iconX = randint(64, 800-64)\n",
    "iconY = randint(64, 600-64)\n",
    "velocity = [2.5,1.5]"
   ]
  },
  {
   "cell_type": "code",
   "execution_count": 13,
   "metadata": {},
   "outputs": [],
   "source": [
    "def Icon(sprite, x,y):\n",
    "    screen.blit(sprite, (x, y))\n",
    "    rect = pygame.Rect(x, y, 32, 32)\n",
    "    return rect"
   ]
  },
  {
   "cell_type": "code",
   "execution_count": 14,
   "metadata": {},
   "outputs": [],
   "source": [
    "def Distance(x2, y2):\n",
    "    hole = pyMath.Vector2(400, 300)\n",
    "    dist = hole.distance_to(pyMath.Vector2(x2, y2))\n",
    "    return dist"
   ]
  },
  {
   "cell_type": "code",
   "execution_count": 15,
   "metadata": {},
   "outputs": [],
   "source": [
    "def Magnitude(x, y):\n",
    "    return (x ** 2 + y ** 2) ** 0.5"
   ]
  },
  {
   "cell_type": "code",
   "execution_count": 16,
   "metadata": {},
   "outputs": [],
   "source": [
    "def changeGrav(duckHole, grav):\n",
    "    newDuckHole = pyMath.Vector2(duckHole.x/grav, duckHole.y/grav)\n",
    "    return pyMath.Vector2(newDuckHole.x+velocity[0], newDuckHole.y+velocity[1])"
   ]
  },
  {
   "cell_type": "code",
   "execution_count": 17,
   "metadata": {},
   "outputs": [],
   "source": [
    "def main_menu(iconX, iconY, isAlive):\n",
    "    blackHole_rect = pygame.Rect(382, 287, 32, 32)  # blackHole hitbox\n",
    "    duck_button = pygame.Rect(0,0,64,64) # duck hitbox\n",
    "    hole = pyMath.Vector2(400, 300) #blackHole x, y position in vector\n",
    "    blackHole = False # if True, blackHole code runs\n",
    "    previous_coord = pyMath.Vector2(0,0) # storing inital duck coordinates before movement \n",
    "    dist = 0 # distance value init\n",
    "    \n",
    "    while True:\n",
    "        \n",
    "        # Setup\n",
    "        previous_coord.x = iconX  # setting x and y values\n",
    "        previous_coord.y = iconY\n",
    "\n",
    "        if blackHole == False: \n",
    "            screen.blit(bg, (0,0)) # regular background image render\n",
    "        else: \n",
    "            screen.blit(blackHole_bg, (0,0)) # black hole background image render\n",
    "        mx, my = pygame.mouse.get_pos()   # get mouse position for interaction    \n",
    "            \n",
    "        # blackHole gravity    \n",
    "                \n",
    "        dist = Distance(iconX, iconY) # call distance function to calculate black hole gravity \n",
    "            \n",
    "        # initial velocity (no black hole)\n",
    "        if iconX >= 800-64:\n",
    "            velocity[0] = -velocity[0]\n",
    "        if iconX <= 0:\n",
    "            velocity[0] = -velocity[0]\n",
    "        if iconY > 600-64:\n",
    "            velocity[1] = -velocity[1]\n",
    "        if iconY < 0:\n",
    "            velocity[1] = -velocity[1] \n",
    "                \n",
    "        \n",
    "        if blackHole: # velocity with black hole\n",
    "            duck_to_hole = pyMath.Vector2((400-previous_coord.x), (300-previous_coord.y)) # vector from initial duck position to black hole\n",
    "            resultant = pyMath.Vector2(duck_to_hole.x + velocity[0], duck_to_hole.y + velocity[1]) # resultant vector from duck to hole and velocity vectors\n",
    "\n",
    "            # calculating varying gravity from duck Distance to black hole\n",
    "            if (dist/175) > .99: # gravity influence starting point \n",
    "                iconX += velocity[0]\n",
    "                iconY += velocity[1]\n",
    "            elif (dist/175) >= .75 and (dist/175) <= .99: # first variation \n",
    "                resultant = changeGrav(duck_to_hole, 50) # call changeGrav function to add the gravity influence to duck vector\n",
    "                if abs(resultant.x) <= 1 and abs(resultant.y) <= 1: \n",
    "                    iconX += velocity[0]-resultant.x\n",
    "                    iconY += velocity[1]-resultant.y\n",
    "                else:\n",
    "                    iconX += resultant.x\n",
    "                    iconY += resultant.y\n",
    "            elif (dist/175) >= .50 and (dist/175) < .75: # second variation \n",
    "                resultant = changeGrav(duck_to_hole, 40) # gravity is a little stronger; smaller the number, the stronger the gravity\n",
    "                if abs(resultant.x) <= 1 and abs(resultant.y) <= 1:\n",
    "                    iconX += velocity[0]-resultant.x\n",
    "                    iconY += velocity[1]-resultant.y\n",
    "                else:\n",
    "                    iconX += resultant.x\n",
    "                    iconY += resultant.y\n",
    "            elif (dist/175) >= .25 and (dist/175) < .5: # third variation \n",
    "                resultant = changeGrav(duck_to_hole, 20)\n",
    "                if abs(resultant.x) <= 1 and abs(resultant.y) <= 1:\n",
    "                    iconX += velocity[0]-resultant.x\n",
    "                    iconY += velocity[1]-resultant.y\n",
    "                else:\n",
    "                    iconX += resultant.x\n",
    "                    iconY += resultant.y\n",
    "            elif (dist/175) < .25:\n",
    "                resultant = changeGrav(duck_to_hole, 1) # final variation, pulls duck in all the way (event horizion)\n",
    "                if abs(resultant.x) <= 1 and abs(resultant.y) <= 1:\n",
    "                    iconX += velocity[0]-resultant.x\n",
    "                    iconY += velocity[1]-resultant.y\n",
    "                else:\n",
    "                    iconX += resultant.x\n",
    "                    iconY += resultant.y\n",
    "            if duck_button.colliderect(blackHole_rect): # collision detection between the duck and black hole to trigger duck vanishing\n",
    "                isAlive = False\n",
    "                blackHole = False\n",
    "                \n",
    "        else:  # if no black hole\n",
    "            iconX += velocity[0]\n",
    "            iconY += velocity[1]\n",
    "        \n",
    "#         duck_to_hole_mag = Magnitude(duck_to_hole.x, duck_to_hole.y)\n",
    "#         prev_to_cur_mag = Magnitude(velocity[0],velocity[1])\n",
    "        \n",
    "        # determines whether to show duck or not\n",
    "        if isAlive:\n",
    "            duck_button = Icon(icon, iconX, iconY)\n",
    "        \n",
    "        \n",
    "        start_game_button = pygame.Rect(0,0,225, 50)\n",
    "        start_game_button.center = (174, 165)\n",
    "        \n",
    "        \n",
    "        controls_button = pygame.Rect(0,0,225, 50)\n",
    "        controls_button.center = (174, 240)\n",
    "        \n",
    "        \n",
    "        credits_button = pygame.Rect(0,0,225, 50)\n",
    "        credits_button.center = (174, 315)\n",
    "        \n",
    "        \n",
    "        if start_game_button.collidepoint(pygame.mouse.get_pos()):\n",
    "            pygame.draw.rect(screen, (255,255,255), start_game_button)\n",
    "        elif controls_button.collidepoint(pygame.mouse.get_pos()):\n",
    "            pygame.draw.rect(screen, (255,255,255), controls_button)\n",
    "        elif credits_button.collidepoint(pygame.mouse.get_pos()):\n",
    "            pygame.draw.rect(screen, (255,255,255), credits_button)\n",
    "        # Text\n",
    "        draw_text(\"Qwack\", fontTitle, themeColor, screen, 275, 20)\n",
    "        draw_text(\"Start Game\", fontSubHeader, themeColor, screen, 75, 150)\n",
    "        draw_text(\"Controls\", fontSubHeader, themeColor, screen, 75, 225)\n",
    "        draw_text(\"Credits\", fontSubHeader, themeColor, screen, 75, 300)\n",
    "        \n",
    "        \n",
    "        \n",
    "        # Event Handling\n",
    "        click = False\n",
    "        for event in pygame.event.get():\n",
    "            if event.type == QUIT: #if user wants to exit game\n",
    "                pygame.quit()\n",
    "                sys.exit()\n",
    "            if event.type == KEYDOWN: \n",
    "                if event.key == K_ESCAPE: #when user presses esc it leaves game\n",
    "                    pygame.quit()\n",
    "                    sys.exit()\n",
    "            if event.type == MOUSEBUTTONDOWN:\n",
    "                if event.button == 1: # checking for clicks\n",
    "                    click = True\n",
    "                    print(mx, my)\n",
    "        \n",
    "        # Checking for user clicks on buttons\n",
    "#         if home_button.collidepoint((mx, my)): # if user clicks on 'Qwack' title, returns to menu page\n",
    "#             if click:\n",
    "#                 main_menu(iconX, iconY, isAlive)            \n",
    "        if start_game_button.collidepoint((mx, my)): # if user clicks on 'Level Select', goes to level select page\n",
    "            if click:\n",
    "                level_select()\n",
    "        if controls_button.collidepoint((mx, my)): # if user clicks on 'Controls', goes to controls page\n",
    "            if click:\n",
    "                Controls(iconX, iconY, isAlive)\n",
    "        if credits_button.collidepoint((mx, my)): # if user clicks on 'Credits', goes to credits page\n",
    "            if click:\n",
    "                Credits(iconX, iconY, isAlive)\n",
    "        if duck_button.collidepoint((mx, my)): # if user clicks on floating duck icon, black hole appears\n",
    "            if click:\n",
    "                blackHole = True\n",
    "                \n",
    "        \n",
    "        pygame.display.update() # update the game with changes from this loop\n",
    "        mainClock.tick(60) # FPS"
   ]
  },
  {
   "cell_type": "code",
   "execution_count": null,
   "metadata": {
    "scrolled": false
   },
   "outputs": [
    {
     "name": "stdout",
     "output_type": "stream",
     "text": [
      "['arial', 'arialblack', 'bahnschrift', 'calibri', 'cambriacambriamath', 'cambria', 'candara', 'comicsansms', 'consolas', 'constantia', 'corbel', 'couriernew', 'ebrima', 'franklingothicmedium', 'gabriola', 'gadugi', 'georgia', 'impact', 'inkfree', 'javanesetext', 'leelawadeeui', 'leelawadeeuisemilight', 'lucidaconsole', 'lucidasans', 'malgungothic', 'malgungothicsemilight', 'microsofthimalaya', 'microsoftjhengheimicrosoftjhengheiui', 'microsoftjhengheimicrosoftjhengheiuibold', 'microsoftjhengheimicrosoftjhengheiuilight', 'microsoftnewtailue', 'microsoftphagspa', 'microsoftsansserif', 'microsofttaile', 'microsoftyaheimicrosoftyaheiui', 'microsoftyaheimicrosoftyaheiuibold', 'microsoftyaheimicrosoftyaheiuilight', 'microsoftyibaiti', 'mingliuextbpmingliuextbmingliuhkscsextb', 'mongolianbaiti', 'msgothicmsuigothicmspgothic', 'mvboli', 'myanmartext', 'nirmalaui', 'nirmalauisemilight', 'palatinolinotype', 'segoemdl2assets', 'segoeprint', 'segoescript', 'segoeui', 'segoeuiblack', 'segoeuiemoji', 'segoeuihistoric', 'segoeuisemibold', 'segoeuisemilight', 'segoeuisymbol', 'simsunnsimsun', 'simsunextb', 'sitkasmallsitkatextsitkasubheadingsitkaheadingsitkadisplaysitkabanner', 'sitkasmallsitkatextboldsitkasubheadingboldsitkaheadingboldsitkadisplayboldsitkabannerbold', 'sitkasmallsitkatextbolditalicsitkasubheadingbolditalicsitkaheadingbolditalicsitkadisplaybolditalicsitkabannerbolditalic', 'sitkasmallsitkatextitalicsitkasubheadingitalicsitkaheadingitalicsitkadisplayitalicsitkabanneritalic', 'sylfaen', 'symbol', 'tahoma', 'timesnewroman', 'trebuchetms', 'verdana', 'webdings', 'wingdings', 'yugothicyugothicuisemiboldyugothicuibold', 'yugothicyugothicuilight', 'yugothicmediumyugothicuiregular', 'yugothicregularyugothicuisemilight', 'holomdl2assets', 'agencyfb', 'algerian', 'bookantiqua', 'arialrounded', 'baskervilleoldface', 'bauhaus93', 'bell', 'bernardcondensed', 'bodoni', 'bodoniblack', 'bodonicondensed', 'bodonipostercompressed', 'bookmanoldstyle', 'bradleyhanditc', 'britannic', 'berlinsansfb', 'berlinsansfbdemi', 'broadway', 'brushscript', 'bookshelfsymbol7', 'californianfb', 'calisto', 'castellar', 'centuryschoolbook', 'centaur', 'century', 'chiller', 'colonna', 'cooperblack', 'copperplategothic', 'curlz', 'dubai', 'dubaimedium', 'dubairegular', 'elephant', 'engravers', 'erasitc', 'erasdemiitc', 'erasmediumitc', 'felixtitling', 'forte', 'franklingothicbook', 'franklingothicdemi', 'franklingothicdemicond', 'franklingothicheavy', 'franklingothicmediumcond', 'freestylescript', 'frenchscript', 'footlight', 'garamond', 'gigi', 'gillsans', 'gillsanscondensed', 'gillsansultracondensed', 'gillsansultra', 'gloucesterextracondensed', 'gillsansextcondensed', 'centurygothic', 'goudyoldstyle', 'goudystout', 'harlowsolid', 'harrington', 'haettenschweiler', 'hightowertext', 'imprintshadow', 'informalroman', 'blackadderitc', 'edwardianscriptitc', 'kristenitc', 'jokerman', 'juiceitc', 'kunstlerscript', 'widelatin', 'lucidabright', 'lucidacalligraphy', 'lucidafaxregular', 'lucidafax', 'lucidahandwriting', 'lucidasansregular', 'lucidasansroman', 'lucidasanstypewriterregular', 'lucidasanstypewriter', 'lucidasanstypewriteroblique', 'magneto', 'maiandragd', 'maturascriptcapitals', 'mistral', 'modernno20', 'monotypecorsiva', 'extra', 'niagaraengraved', 'niagarasolid', 'ocraextended', 'oldenglishtext', 'onyx', 'msoutlook', 'palacescript', 'papyrus', 'parchment', 'perpetua', 'perpetuatitling', 'playbill', 'poorrichard', 'pristina', 'rage', 'ravie', 'msreferencesansserif', 'msreferencespecialty', 'rockwellcondensed', 'rockwell', 'rockwellextra', 'script', 'showcardgothic', 'snapitc', 'stencil', 'twcen', 'twcencondensed', 'twcencondensedextra', 'tempussansitc', 'vinerhanditc', 'vivaldi', 'vladimirscript', 'wingdings2', 'wingdings3']\n",
      "207 182\n",
      "(186, 370)\n"
     ]
    }
   ],
   "source": [
    "# Game Loop\n",
    "print(pygame.font.get_fonts())\n",
    "main_menu(iconX, iconY, isAlive)"
   ]
  },
  {
   "cell_type": "code",
   "execution_count": null,
   "metadata": {},
   "outputs": [],
   "source": []
  }
 ],
 "metadata": {
  "kernelspec": {
   "display_name": "Python 3",
   "language": "python",
   "name": "python3"
  },
  "language_info": {
   "codemirror_mode": {
    "name": "ipython",
    "version": 3
   },
   "file_extension": ".py",
   "mimetype": "text/x-python",
   "name": "python",
   "nbconvert_exporter": "python",
   "pygments_lexer": "ipython3",
   "version": "3.9.0"
  }
 },
 "nbformat": 4,
 "nbformat_minor": 4
}
