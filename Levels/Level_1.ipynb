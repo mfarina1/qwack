{
 "cells": [
  {
   "cell_type": "code",
   "execution_count": 1,
   "metadata": {},
   "outputs": [
    {
     "name": "stdout",
     "output_type": "stream",
     "text": [
      "pygame 2.0.1 (SDL 2.0.14, Python 3.8.3)\n",
      "Hello from the pygame community. https://www.pygame.org/contribute.html\n"
     ]
    }
   ],
   "source": [
    "import pygame, sys\n",
    "from pygame.locals import *\n",
    "import numpy\n",
    "import matplotlib\n",
    "\n",
    "import qiskit\n",
    "from qiskit import *\n",
    "\n",
    "matplotlib.use(\"Agg\")\n",
    "\n",
    "import matplotlib.pyplot as plt\n",
    "import matplotlib.backends.backend_agg as agg"
   ]
  },
  {
   "cell_type": "code",
   "execution_count": 18,
   "metadata": {},
   "outputs": [],
   "source": [
    "qr = QuantumRegister(2)\n",
    "cr = ClassicalRegister(2)\n",
    "qc = QuantumCircuit(qr, cr)  \n",
    "qc.h(0)                \n",
    "%matplotlib inline\n",
    "qc.draw(output='mpl',filename='test.png')\n",
    "\n",
    "circ_img = pygame.image.load('test.png')"
   ]
  },
  {
   "cell_type": "code",
   "execution_count": 15,
   "metadata": {},
   "outputs": [],
   "source": [
    "def level_1(x, y, xChange, yChange):\n",
    "    running = True\n",
    "    i = 0\n",
    "    width = 800\n",
    "    bg_movement = 0\n",
    "    \n",
    "    while running:\n",
    "        screen.fill((0,0,0))\n",
    "        screen.blit(level0, (bg_movement,0))\n",
    "        screen.blit(level0, (width+bg_movement, 0))\n",
    "        \n",
    "        # Setup\n",
    "        mx, my = pygame.mouse.get_pos()\n",
    "        circ_str = [circ_img]\n",
    "        \n",
    "        if i == 0:\n",
    "            screen.blit(circ_img, (0,0))\n",
    "        screen.blit(circ_str[i], (0,0))\n",
    "        \n",
    "        click = False\n",
    "        for event in pygame.event.get():\n",
    "            if event.type == QUIT:\n",
    "                pygame.quit()\n",
    "                sys.exit()\n",
    "            if event.type == KEYDOWN:\n",
    "                if event.key == K_ESCAPE:\n",
    "                    running = False\n",
    "            if event.type == MOUSEBUTTONDOWN:\n",
    "                if event.button == 1:\n",
    "                    click = True\n",
    "                    \n",
    "        #Display\n",
    "        Icon(icon, x, y)\n",
    "        pygame.display.update()\n",
    "        mainClock.tick(60)"
   ]
  },
  {
   "cell_type": "code",
   "execution_count": null,
   "metadata": {},
   "outputs": [],
   "source": []
  }
 ],
 "metadata": {
  "kernelspec": {
   "display_name": "Python 3",
   "language": "python",
   "name": "python3"
  },
  "language_info": {
   "codemirror_mode": {
    "name": "ipython",
    "version": 3
   },
   "file_extension": ".py",
   "mimetype": "text/x-python",
   "name": "python",
   "nbconvert_exporter": "python",
   "pygments_lexer": "ipython3",
   "version": "3.8.3"
  }
 },
 "nbformat": 4,
 "nbformat_minor": 4
}
