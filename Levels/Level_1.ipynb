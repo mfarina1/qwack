{
 "cells": [
  {
   "cell_type": "code",
   "execution_count": null,
   "metadata": {},
   "outputs": [],
   "source": [
    "import qiskit\n",
    "from qiskit import *"
   ]
  },
  {
   "cell_type": "code",
   "execution_count": null,
   "metadata": {},
   "outputs": [],
   "source": [
    "qc = QuantumCircuit(1)  # Create a quantum circuit with one qubit\n",
    "initial_state = [0,1]   # Define initial_state as |1>\n",
    "qc.initialize(initial_state, 0) # Apply initialisation operation to the 0th qubit\n",
    "qc.h(0)                # adding an H gate on our circuit\n",
    "\n",
    "circ_img = str(qc.draw(output = \"text\"))\n",
    "\n",
    "def level_1(x, y, xChange, yChange):\n",
    "    running = True\n",
    "    i = 0\n",
    "    width = 800\n",
    "    bg_movement = 0\n",
    "    \n",
    "    while running:\n",
    "        screen.fill((0,0,0))\n",
    "        screen.blit(level0, (bg_movement,0))\n",
    "        screen.blit(level0, (width+bg_movement, 0))\n",
    "        \n",
    "        # Setup\n",
    "        mx, my = pygame.mouse.get_pos()\n",
    "        circ_str = [circ_img]\n",
    "        \n",
    "        if i == 0:\n",
    "            draw_text(circ_img, fontSubHeader, (255, 255, 255), screen, 120, 200)\n",
    "        draw_text(circ_str[i], text, (255, 255, 255), screen, 120, 400)\n",
    "        \n",
    "        click = False\n",
    "        for event in pygame.event.get():\n",
    "            if event.type == QUIT:\n",
    "                pygame.quit()\n",
    "                sys.exit()\n",
    "            if event.type == KEYDOWN:\n",
    "                if event.key == K_ESCAPE:\n",
    "                    running = False\n",
    "            if event.type == MOUSEBUTTONDOWN:\n",
    "                if event.button == 1:\n",
    "                    click = True\n",
    "                    \n",
    "        #Display\n",
    "        Icon(icon, x, y)\n",
    "        pygame.display.update()\n",
    "        mainClock.tick(60)"
   ]
  }
 ],
 "metadata": {
  "kernelspec": {
   "display_name": "Python 3",
   "language": "python",
   "name": "python3"
  },
  "language_info": {
   "codemirror_mode": {
    "name": "ipython",
    "version": 3
   },
   "file_extension": ".py",
   "mimetype": "text/x-python",
   "name": "python",
   "nbconvert_exporter": "python",
   "pygments_lexer": "ipython3",
   "version": "3.8.5"
  }
 },
 "nbformat": 4,
 "nbformat_minor": 4
}
