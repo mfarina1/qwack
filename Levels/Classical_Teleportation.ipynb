{
 "cells": [
  {
   "cell_type": "code",
   "execution_count": 1,
   "metadata": {
    "scrolled": true
   },
   "outputs": [
    {
     "name": "stdout",
     "output_type": "stream",
     "text": [
      "pygame 2.0.1 (SDL 2.0.14, Python 3.9.0)\n",
      "Hello from the pygame community. https://www.pygame.org/contribute.html\n"
     ]
    }
   ],
   "source": [
    "import pygame, sys"
   ]
  },
  {
   "cell_type": "code",
   "execution_count": 2,
   "metadata": {},
   "outputs": [],
   "source": [
    "class Duck(pygame.sprite.Sprite):\n",
    "    def __init__(self, width, height, pos_x, pos_y, img_path):\n",
    "        super().__init__()\n",
    "        self.image = pygame.image.load(img_path)\n",
    "        self.image = pygame.transform.scale(self.image, (width, height))\n",
    "        self.rect = self.image.get_rect()\n",
    "        self.rect.center = (pos_x, pos_y)\n",
    "        \n",
    "        # Velocity\n",
    "        self.change_x = 0\n",
    "        self.change_y = 0\n",
    "        \n",
    "    def update(self, ducks):\n",
    "        # Change Player Position\n",
    "#         old_pos = self.rect.x, self.rect.y\n",
    "        \n",
    "#         #Check x collision\n",
    "#         self.rect.y += self.change_y\n",
    "#         if pygame.sprite.spritecollideany(self, ducks):\n",
    "#             xCol = True\n",
    "        \n",
    "#         #check y collision\n",
    "#         self.rect.y = old_pos[1]\n",
    "#         self.rect.x += self.change_x\n",
    "#         if pygame.sprite.spritecollideany(self, ducks):\n",
    "#             yCol = True\n",
    "#         self.rect.x = old_pos[0]\n",
    "        \n",
    "#         # Calculate next position accordingly \n",
    "#         if xCol:\n",
    "#             self.rect.y += self.change_y\n",
    "#         elif yCol: \n",
    "#             self.rect.x += self.change_x\n",
    "#         else:\n",
    "#             self.rect.y += self.change_y\n",
    "#             self.rect.x += self.change_x\n",
    "\n",
    "        self.rect.y += self.change_y\n",
    "        self.rect.x += self.change_x"
   ]
  },
  {
   "cell_type": "code",
   "execution_count": 3,
   "metadata": {},
   "outputs": [],
   "source": [
    "def classical_teleportation():\n",
    "     \n",
    "    # Ducks\n",
    "    running = True\n",
    "    mainDuck = Duck(32, 32, 300, 300, '../Images/duck.png')\n",
    "    secondDuck = Duck(64,64, 450, 600, '../Images/Duck_2_2.png')\n",
    "    duck_group = pygame.sprite.Group()\n",
    "    duck_group.add(mainDuck, secondDuck)\n",
    "    iterate_duck = 0\n",
    "    \n",
    "    moveDucks = [mainDuck, secondDuck]\n",
    "    \n",
    "    while running:\n",
    "        \n",
    "        screen.fill((0,0,0))\n",
    "        \n",
    "        \n",
    "        \n",
    "        mx, my = pygame.mouse.get_pos()\n",
    "        \n",
    "        #Event Handling\n",
    "        click = False\n",
    "        for event in pygame.event.get():\n",
    "            if event.type == QUIT:\n",
    "                pygame.quit()\n",
    "                sys.exit()\n",
    "            if event.type == KEYDOWN:\n",
    "                if event.key == K_ESCAPE:\n",
    "                    running = False\n",
    "                # movement\n",
    "                if event.key == pygame.K_LEFT:\n",
    "                    moveDucks[iterate_duck].change_x = -5\n",
    "                if event.key == pygame.K_RIGHT:\n",
    "                    moveDucks[iterate_duck].change_x = 5\n",
    "                if event.key == pygame.K_UP:\n",
    "                    moveDucks[iterate_duck].change_y = -5\n",
    "                if event.key == pygame.K_DOWN:\n",
    "                    moveDucks[iterate_duck].change_y = 5\n",
    "                if event.key == pygame.K_SPACE :\n",
    "                    iterate_duck += 1\n",
    "            if event.type == pygame.KEYUP:\n",
    "                if event.key == pygame.K_LEFT or event.key == pygame.K_RIGHT or event.key == ord('d') or event.key == ord('a'):\n",
    "                    moveDucks[iterate_duck].change_x  = 0\n",
    "                if event.key == pygame.K_UP or event.key == pygame.K_DOWN or event.key == ord('w') or event.key == ord('s'):\n",
    "                    moveDucks[iterate_duck].change_y  = 0\n",
    "            if event.type == MOUSEBUTTONDOWN:\n",
    "                if event.button == 1:\n",
    "                    click = True\n",
    "        \n",
    "        draw_text(\"Press Space To Switch Characters\", fontSubHeader, (255,255, 255), screen, 205, 30)\n",
    "        # boundries\n",
    "        for duck in duck_group:\n",
    "            widthBound = 800-duck.rect.w\n",
    "            heightBound = 600-duck.rect.h\n",
    "            if duck.rect.x <= 0:\n",
    "                duck.rect.x  = 0\n",
    "            elif duck.rect.x  >= widthBound:\n",
    "                duck.rect.x  = widthBound\n",
    "            if duck.rect.y  <= 0:\n",
    "                duck.rect.y = 0\n",
    "            elif duck.rect.y >= heightBound:\n",
    "                duck.rect.y = heightBound\n",
    "        if iterate_duck >= len(moveDucks):\n",
    "            iterate_duck = 0\n",
    "        duck_group.draw(screen)\n",
    "        duck_group.update(duck_group)\n",
    "        pygame.display.update()\n",
    "#         print(mainDuck.rect.x)\n",
    "        mainClock.tick(60) "
   ]
  }
 ],
 "metadata": {
  "kernelspec": {
   "display_name": "Python 3",
   "language": "python",
   "name": "python3"
  },
  "language_info": {
   "codemirror_mode": {
    "name": "ipython",
    "version": 3
   },
   "file_extension": ".py",
   "mimetype": "text/x-python",
   "name": "python",
   "nbconvert_exporter": "python",
   "pygments_lexer": "ipython3",
   "version": "3.9.0"
  }
 },
 "nbformat": 4,
 "nbformat_minor": 4
}
