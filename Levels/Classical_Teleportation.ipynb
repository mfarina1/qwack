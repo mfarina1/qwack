{
 "cells": [
  {
   "cell_type": "code",
   "execution_count": 1,
   "metadata": {
    "scrolled": true
   },
   "outputs": [
    {
     "name": "stdout",
     "output_type": "stream",
     "text": [
      "pygame 2.0.1 (SDL 2.0.14, Python 3.9.0)\n",
      "Hello from the pygame community. https://www.pygame.org/contribute.html\n"
     ]
    }
   ],
   "source": [
    "import pygame"
   ]
  },
  {
   "cell_type": "code",
   "execution_count": 2,
   "metadata": {},
   "outputs": [
    {
     "ename": "IndentationError",
     "evalue": "expected an indented block (<ipython-input-2-2ad90eade72f>, line 1)",
     "output_type": "error",
     "traceback": [
      "\u001b[1;36m  File \u001b[1;32m\"<ipython-input-2-2ad90eade72f>\"\u001b[1;36m, line \u001b[1;32m1\u001b[0m\n\u001b[1;33m    class duck(pygame.sprite.Sprite):\u001b[0m\n\u001b[1;37m                                     ^\u001b[0m\n\u001b[1;31mIndentationError\u001b[0m\u001b[1;31m:\u001b[0m expected an indented block\n"
     ]
    }
   ],
   "source": [
    "class duck(pygame.sprite.Sprite):\n",
    "    def __init__(self, width, height, pos_x, pos_y, img):\n",
    "        super().__init__()\n",
    "        self.image = pygame.Surface"
   ]
  },
  {
   "cell_type": "code",
   "execution_count": null,
   "metadata": {},
   "outputs": [],
   "source": [
    "def classical_teleportation():\n",
    "    running = True\n",
    "    while running:\n",
    "        screen.fill((0,0,0))\n",
    "        \n",
    "        mx, my = pygame.mouse.get_pos()\n",
    "        \n",
    "        #Event Handling\n",
    "        click = False\n",
    "        for event in pygame.event.get():\n",
    "            if event.type == QUIT:\n",
    "                pygame.quit()\n",
    "                sys.exit()\n",
    "            if event.type == KEYDOWN:\n",
    "                if event.key == K_ESCAPE:\n",
    "                    running = False\n",
    "#                 # movement\n",
    "#                 if event.key == pygame.K_LEFT:\n",
    "#                     xChange = -5\n",
    "#                 if event.key == pygame.K_RIGHT:\n",
    "#                     xChange = 5\n",
    "#                 if event.key == pygame.K_UP:\n",
    "#                     yChange = -5\n",
    "#                 if event.key == pygame.K_DOWN:\n",
    "#                     yChange = 5\n",
    "#                 if event.key == pygame.K_SPACE and not entangled:\n",
    "#                     entangled = True\n",
    "            if event.type == pygame.KEYUP:\n",
    "                if event.key == pygame.K_LEFT or event.key == pygame.K_RIGHT:\n",
    "                    xChange = 0\n",
    "                if event.key == pygame.K_UP or event.key == pygame.K_DOWN:\n",
    "                    yChange = 0\n",
    "            if event.type == MOUSEBUTTONDOWN:\n",
    "                if event.button == 1:\n",
    "                    click = True\n"
   ]
  }
 ],
 "metadata": {
  "kernelspec": {
   "display_name": "Python 3",
   "language": "python",
   "name": "python3"
  },
  "language_info": {
   "codemirror_mode": {
    "name": "ipython",
    "version": 3
   },
   "file_extension": ".py",
   "mimetype": "text/x-python",
   "name": "python",
   "nbconvert_exporter": "python",
   "pygments_lexer": "ipython3",
   "version": "3.9.0"
  }
 },
 "nbformat": 4,
 "nbformat_minor": 4
}
