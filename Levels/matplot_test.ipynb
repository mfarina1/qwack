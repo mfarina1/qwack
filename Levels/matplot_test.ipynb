{
 "cells": [
  {
   "cell_type": "code",
   "execution_count": 1,
   "metadata": {},
   "outputs": [
    {
     "name": "stdout",
     "output_type": "stream",
     "text": [
      "pygame 2.0.1 (SDL 2.0.14, Python 3.8.3)\n",
      "Hello from the pygame community. https://www.pygame.org/contribute.html\n"
     ]
    },
    {
     "ename": "SystemExit",
     "evalue": "",
     "output_type": "error",
     "traceback": [
      "An exception has occurred, use %tb to see the full traceback.\n",
      "\u001b[0;31mSystemExit\u001b[0m\n"
     ]
    },
    {
     "name": "stderr",
     "output_type": "stream",
     "text": [
      "/Users/madelinefarina/opt/anaconda3/lib/python3.8/site-packages/IPython/core/interactiveshell.py:3351: UserWarning: To exit: use 'exit', 'quit', or Ctrl-D.\n",
      "  warn(\"To exit: use 'exit', 'quit', or Ctrl-D.\", stacklevel=1)\n"
     ]
    }
   ],
   "source": [
    "import pygame, sys\n",
    "from pygame.locals import *\n",
    "import numpy\n",
    "import matplotlib\n",
    "\n",
    "matplotlib.use(\"Agg\")\n",
    "\n",
    "import matplotlib.pyplot as plt\n",
    "import matplotlib.backends.backend_agg as agg\n",
    "\n",
    "fig = plt.figure(figsize=[3, 3])\n",
    "ax = fig.add_subplot(111)\n",
    "canvas = agg.FigureCanvasAgg(fig)\n",
    "\n",
    "def plot(data):\n",
    "   ax.plot(data)\n",
    "   canvas.draw()\n",
    "   renderer = canvas.get_renderer()\n",
    "\n",
    "   raw_data = renderer.tostring_rgb()\n",
    "   size = canvas.get_width_height()\n",
    "\n",
    "   return pygame.image.fromstring(raw_data, size, \"RGB\")\n",
    "\n",
    "pygame.init()\n",
    "clock = pygame.time.Clock()\n",
    "screen = pygame.display.set_mode((400, 400))\n",
    "\n",
    "pygame.display.set_caption('Animating Objects')\n",
    "img = pygame.image.load('../../ech.png')\n",
    "\n",
    "steps = numpy.linspace(20, 360, 40).astype(int)\n",
    "right = numpy.zeros((2, len(steps)))\n",
    "down = numpy.zeros((2, len(steps)))\n",
    "left = numpy.zeros((2, len(steps)))\n",
    "up = numpy.zeros((2, len(steps)))\n",
    "\n",
    "right[0] = steps\n",
    "right[1] = 20\n",
    "\n",
    "down[0] = 360\n",
    "down[1] = steps\n",
    "\n",
    "left[0] = steps[::-1]\n",
    "left[1] = 360\n",
    "\n",
    "up[0] = 20\n",
    "up[1] = steps[::-1]\n",
    "\n",
    "pos = numpy.concatenate((right.T, down.T, left.T, up.T))\n",
    "i = 0\n",
    "history = numpy.array([])\n",
    "surf = plot(history)\n",
    "\n",
    "while True: \n",
    "   # Erase screen\n",
    "   screen.fill((255, 255, 255))\n",
    "\n",
    "   if i >= len(pos):\n",
    "      i = 0\n",
    "      surf = plot(history)\n",
    "\n",
    "\n",
    "   screen.blit(img, pos[i])\n",
    "   history = numpy.append(history, pos[i])\n",
    "   screen.blit(surf, (100, 100))\n",
    "\n",
    "   i += 1\n",
    "\n",
    "   for event in pygame.event.get():\n",
    "      if event.type == QUIT:\n",
    "         pygame.quit()\n",
    "         sys.exit()\n",
    "\n",
    "   pygame.display.update()\n",
    "   clock.tick(30)"
   ]
  },
  {
   "cell_type": "code",
   "execution_count": null,
   "metadata": {},
   "outputs": [],
   "source": []
  }
 ],
 "metadata": {
  "kernelspec": {
   "display_name": "Python 3",
   "language": "python",
   "name": "python3"
  },
  "language_info": {
   "codemirror_mode": {
    "name": "ipython",
    "version": 3
   },
   "file_extension": ".py",
   "mimetype": "text/x-python",
   "name": "python",
   "nbconvert_exporter": "python",
   "pygments_lexer": "ipython3",
   "version": "3.8.3"
  }
 },
 "nbformat": 4,
 "nbformat_minor": 4
}
