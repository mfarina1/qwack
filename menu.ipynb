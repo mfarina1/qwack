{
 "cells": [
  {
   "cell_type": "code",
   "execution_count": 1,
   "metadata": {},
   "outputs": [
    {
     "name": "stdout",
     "output_type": "stream",
     "text": [
      "Requirement already up-to-date: pygame in /Users/rishichalla/.local/lib/python3.8/site-packages (2.0.1)\n",
      "Note: you may need to restart the kernel to use updated packages.\n"
     ]
    }
   ],
   "source": [
    "pip install -U pygame --user"
   ]
  },
  {
   "cell_type": "code",
   "execution_count": 2,
   "metadata": {},
   "outputs": [
    {
     "name": "stdout",
     "output_type": "stream",
     "text": [
      "pygame 2.0.1 (SDL 2.0.14, Python 3.8.5)\n",
      "Hello from the pygame community. https://www.pygame.org/contribute.html\n"
     ]
    }
   ],
   "source": [
    "import pygame, sys\n",
    "from pygame.locals import *\n",
    "import io\n",
    "from urllib.request import urlopen\n",
    "from random import randint"
   ]
  },
  {
   "cell_type": "code",
   "execution_count": 3,
   "metadata": {},
   "outputs": [],
   "source": [
    "#conda install -c cogsci pygame"
   ]
  },
  {
   "cell_type": "code",
   "execution_count": 4,
   "metadata": {},
   "outputs": [
    {
     "data": {
      "text/plain": [
       "(7, 0)"
      ]
     },
     "execution_count": 4,
     "metadata": {},
     "output_type": "execute_result"
    }
   ],
   "source": [
    "pygame.init()"
   ]
  },
  {
   "cell_type": "code",
   "execution_count": 5,
   "metadata": {},
   "outputs": [],
   "source": [
    "screen = pygame.display.set_mode((800, 600))"
   ]
  },
  {
   "cell_type": "code",
   "execution_count": 6,
   "metadata": {},
   "outputs": [],
   "source": [
    "running = True"
   ]
  },
  {
   "cell_type": "code",
   "execution_count": 7,
   "metadata": {},
   "outputs": [],
   "source": [
    "#Sprites\n",
    "icon = pygame.image.load('./duck.png')"
   ]
  },
  {
   "cell_type": "code",
   "execution_count": 8,
   "metadata": {},
   "outputs": [],
   "source": [
    "#Backgrounds\n",
    "bg = pygame.image.load(\"./qwackBg.jpg\")\n",
    "level0 = pygame.image.load(\"./level0.jpg\")"
   ]
  },
  {
   "cell_type": "code",
   "execution_count": 9,
   "metadata": {},
   "outputs": [],
   "source": [
    "#Global Variables\n",
    "pygame.display.set_caption(\"Qwack\")\n",
    "meme = pygame.image.load('./qwackMeme.jpg')\n",
    "pygame.display.set_icon(meme)\n",
    "\n",
    "fontTitle = pygame.font.SysFont(\"Comic\", 125)\n",
    "fontSubHeader = pygame.font.SysFont(None, 50)\n",
    "text = pygame.font.SysFont(None, 25)\n",
    "\n",
    "mainClock = pygame.time.Clock()\n",
    "\n",
    "click = False\n",
    "themeColor = (255,255,0)\n"
   ]
  },
  {
   "cell_type": "code",
   "execution_count": 10,
   "metadata": {},
   "outputs": [],
   "source": [
    "def draw_text(text, font, color, surface, x, y):\n",
    "    textObj = font.render(text,1,color)\n",
    "    textRect = textObj.get_rect()\n",
    "    textRect.topleft = (x,y)\n",
    "    surface.blit(textObj, textRect)\n",
    "    return textRect"
   ]
  },
  {
   "cell_type": "code",
   "execution_count": 11,
   "metadata": {},
   "outputs": [],
   "source": [
    "#icon\n",
    "global iconX, iconY, velocity\n",
    "iconX = 370\n",
    "iconY = 480\n",
    "velocity = [randint(3,4),randint(-4,4)]"
   ]
  },
  {
   "cell_type": "code",
   "execution_count": 12,
   "metadata": {},
   "outputs": [],
   "source": [
    "def Icon(sprite, x,y):\n",
    "    screen.blit(sprite, (x, y))"
   ]
  },
  {
   "cell_type": "code",
   "execution_count": 13,
   "metadata": {},
   "outputs": [],
   "source": [
    "def main_menu(iconX, iconY):\n",
    "    while True:\n",
    "        \n",
    "        # Setup\n",
    "        screen.blit(bg, (0,0))\n",
    "        mx, my = pygame.mouse.get_pos()\n",
    "        \n",
    "        #icon bouncing in background\n",
    "        if iconX >= 785:\n",
    "            velocity[0] = -velocity[0]\n",
    "        if iconX <= 0:\n",
    "            velocity[0] = -velocity[0]\n",
    "        if iconY > 585:\n",
    "            velocity[1] = -velocity[1]\n",
    "        if iconY < 0:\n",
    "            velocity[1] = -velocity[1] \n",
    "            \n",
    "            \n",
    "        iconX += velocity[0]\n",
    "        iconY += velocity[1]\n",
    "        Icon(icon, iconX, iconY)\n",
    "        \n",
    "        # Buttons\n",
    "        button_1 = pygame.Rect(65, 140, 230, 45)\n",
    "        button_2 = pygame.Rect(65, 215, 230, 45)\n",
    "        button_3 = pygame.Rect(65, 290, 230, 45)\n",
    "        \n",
    "        if button_1.collidepoint((mx, my)):\n",
    "            if click:\n",
    "                level_select(iconX, iconY)\n",
    "        if button_2.collidepoint((mx, my)):\n",
    "            if click:\n",
    "                Controls(iconX, iconY)\n",
    "        if button_3.collidepoint((mx, my)):\n",
    "            if click:\n",
    "                Credits(iconX, iconY)\n",
    "                \n",
    "        pygame.draw.rect(screen, themeColor, button_1)\n",
    "        pygame.draw.rect(screen, themeColor, button_2)\n",
    "        pygame.draw.rect(screen, themeColor, button_3)\n",
    "        \n",
    "        # Text\n",
    "        draw_text(\"Qwack\", fontTitle, themeColor, screen, 260, 15)\n",
    "        draw_text(\"Start Game\", fontSubHeader, (0, 0, 0), screen, 75, 150)\n",
    "        draw_text(\"Controls\", fontSubHeader, (0, 0, 0), screen, 75, 225)\n",
    "        draw_text(\"Credits\", fontSubHeader, (0, 0, 0), screen, 75, 300)\n",
    "        \n",
    "        # Event Handling\n",
    "        click = False\n",
    "        for event in pygame.event.get():\n",
    "            if event.type == QUIT:\n",
    "                pygame.quit()\n",
    "                sys.exit()\n",
    "            if event.type == KEYDOWN:\n",
    "                if event.key == K_ESCAPE:\n",
    "                    pygame.quit()\n",
    "                    sys.exit()\n",
    "            if event.type == MOUSEBUTTONDOWN:\n",
    "                if event.button == 1:\n",
    "                    click = True\n",
    "                    # print(mx, my)\n",
    "        pygame.display.update()\n",
    "        mainClock.tick(60) "
   ]
  },
  {
   "cell_type": "code",
   "execution_count": 14,
   "metadata": {},
   "outputs": [],
   "source": [
    "def level_select(iconX, iconY):\n",
    "    running = True\n",
    "    while running:\n",
    "        \n",
    "        #Initialize\n",
    "        screen.fill((0,0,0))\n",
    "        screen.blit(bg, (0,0))\n",
    "        mx, my = pygame.mouse.get_pos()\n",
    "        \n",
    "        #icon bouncing in background\n",
    "        if iconX >= 785:\n",
    "            velocity[0] = -velocity[0]\n",
    "        if iconX <= 0:\n",
    "            velocity[0] = -velocity[0]\n",
    "        if iconY > 585:\n",
    "            velocity[1] = -velocity[1]\n",
    "        if iconY < 0:\n",
    "            velocity[1] = -velocity[1] \n",
    "            \n",
    "            \n",
    "        iconX += velocity[0]\n",
    "        iconY += velocity[1]\n",
    "        Icon(icon, iconX, iconY)\n",
    "        \n",
    "        draw_text(\"Qwack\", fontTitle, themeColor, screen, 262, 15)\n",
    "        draw_text(\"Level Select\", fontSubHeader, (255, 255, 255), screen, 307, 110)\n",
    "        draw_text(\"___________\", fontSubHeader, (255, 255, 255), screen, 307.25, 112)\n",
    "        draw_text(\"Press Esc To Return\", text, themeColor, screen, 10, 15)\n",
    "        buttonLevel_0 = draw_text(\"Level 0: Tutorial\", text, (255, 255, 255), screen, 75, 175)\n",
    "        buttonLevel_1 = draw_text(\"Level 1: Entanglement\", text, (255, 255, 255), screen, 75, 225)\n",
    "        buttonLevel_2 = draw_text(\"Level 2:\", text, (255, 255, 255), screen, 75, 275)\n",
    "        buttonLevel_3 = draw_text(\"Level 3:\", text, (255, 255, 255), screen, 75, 325)\n",
    "        buttonLevel_4 = draw_text(\"Level 4:\", text, (255, 255, 255), screen, 75, 375)\n",
    "        buttonLevel_5 = draw_text(\"Level 5:\", text, (255, 255, 255), screen, 75, 425)\n",
    "        buttonLevel_6 = draw_text(\"Level 6:\", text, (255, 255, 255), screen, 75, 475)\n",
    "        \n",
    "        #player\n",
    "        playerX = 370\n",
    "        playerY = 490\n",
    "        xChange = 0\n",
    "        yChange = 0\n",
    "        \n",
    "        \n",
    "            \n",
    "        click = False\n",
    "        for event in pygame.event.get():\n",
    "            if event.type == QUIT:\n",
    "                pygame.quit()\n",
    "                sys.exit()\n",
    "            if event.type == KEYDOWN:\n",
    "                if event.key == K_ESCAPE:\n",
    "                    running = False\n",
    "            if event.type == MOUSEBUTTONDOWN:\n",
    "                if event.button == 1:\n",
    "                    click = True\n",
    "                    \n",
    "        if buttonLevel_0.collidepoint((mx, my)):\n",
    "            if click:\n",
    "                level_0(playerX, playerY, xChange, yChange)\n",
    "        if buttonLevel_1.collidepoint((mx, my)):\n",
    "            if click:\n",
    "                pass\n",
    "        if buttonLevel_2.collidepoint((mx, my)):\n",
    "            if click:\n",
    "                pass\n",
    "        pygame.display.update()\n",
    "        mainClock.tick(60)"
   ]
  },
  {
   "cell_type": "code",
   "execution_count": 15,
   "metadata": {},
   "outputs": [],
   "source": [
    "def Controls(iconX, iconY):\n",
    "    running = True\n",
    "    while running:\n",
    "        screen.fill((0,0,0))\n",
    "        screen.blit(bg, (0,0))\n",
    "        \n",
    "        #icon bouncing in background\n",
    "        if iconX >= 785:\n",
    "            velocity[0] = -velocity[0]\n",
    "        if iconX <= 0:\n",
    "            velocity[0] = -velocity[0]\n",
    "        if iconY > 585:\n",
    "            velocity[1] = -velocity[1]\n",
    "        if iconY < 0:\n",
    "            velocity[1] = -velocity[1] \n",
    "            \n",
    "            \n",
    "        iconX += velocity[0]\n",
    "        iconY += velocity[1]\n",
    "        Icon(icon, iconX, iconY)\n",
    "        \n",
    "        draw_text(\"Qwack\", fontTitle, themeColor, screen, 262, 15)\n",
    "        draw_text(\"Press Esc To Return\", text, themeColor, screen, 10, 15)\n",
    "        draw_text(\"Controls\", fontSubHeader, (255, 255, 255), screen, 307, 110)\n",
    "        draw_text(\"________\", fontSubHeader, (255, 255, 255), screen, 307.25, 112)\n",
    "        for event in pygame.event.get():\n",
    "            if event.type == QUIT:\n",
    "                pygame.quit()\n",
    "                sys.exit()\n",
    "            if event.type == KEYDOWN:\n",
    "                if event.key == K_ESCAPE:\n",
    "                    running = False\n",
    "                    \n",
    "        pygame.display.update()\n",
    "        mainClock.tick(60) "
   ]
  },
  {
   "cell_type": "code",
   "execution_count": 16,
   "metadata": {},
   "outputs": [],
   "source": [
    "def Credits(iconX, iconY):\n",
    "    running = True\n",
    "    while running:\n",
    "        screen.fill((0,0,0))\n",
    "        screen.blit(bg, (0,0))\n",
    "        \n",
    "        #icon bouncing in background\n",
    "        if iconX >= 785:\n",
    "            velocity[0] = -velocity[0]\n",
    "        if iconX <= 0:\n",
    "            velocity[0] = -velocity[0]\n",
    "        if iconY > 585:\n",
    "            velocity[1] = -velocity[1]\n",
    "        if iconY < 0:\n",
    "            velocity[1] = -velocity[1] \n",
    "            \n",
    "            \n",
    "        iconX += velocity[0]\n",
    "        iconY += velocity[1]\n",
    "        Icon(icon, iconX, iconY)\n",
    "        \n",
    "        draw_text(\"Qwack\", fontTitle, themeColor, screen, 262, 15)\n",
    "        draw_text(\"Press Esc To Return\", text, themeColor, screen, 10, 15)\n",
    "        draw_text(\"About Us\", fontSubHeader, (255, 255, 255), screen, 307, 110)\n",
    "        draw_text(\"________\", fontSubHeader, (255, 255, 255), screen, 307.25, 112)\n",
    "        for event in pygame.event.get():\n",
    "            if event.type == QUIT:\n",
    "                pygame.quit()\n",
    "                sys.exit()\n",
    "            if event.type == KEYDOWN:\n",
    "                if event.key == K_ESCAPE:\n",
    "                    running = False\n",
    "                    \n",
    "        pygame.display.update()\n",
    "        mainClock.tick(60) "
   ]
  },
  {
   "cell_type": "code",
   "execution_count": 17,
   "metadata": {},
   "outputs": [],
   "source": [
    "def level_0(x, y, xChange, yChange):\n",
    "    running = True\n",
    "    jump = False\n",
    "    i = 0\n",
    "    while running:\n",
    "        # Setup\n",
    "        screen.fill((0,0,0))\n",
    "        screen.blit(level0, (0,0))\n",
    "        mx, my = pygame.mouse.get_pos()\n",
    "        instructions = [\"Hello! Welcome to Qwack!\", \"This is a game about exploring and learning Quantum Computing Concepts\",\n",
    "                       \"Meet Dr. Qwack! He is stuck in a quantum realm and needs your help to escape!\",\n",
    "                       \"Use the LEFT ARROW and RIGHT ARROW keys to move\",\n",
    "                       \"Use SPACE to Jump\",\n",
    "                       \"If at any point you want to abandon Dr. Qwack, press ESC\"]\n",
    "        #Instructions\n",
    "        if i == 0:\n",
    "            draw_text(\"Use the UP Arrow to continue reading...\", fontSubHeader, (255, 255, 255), screen, 120, 200)\n",
    "        draw_text(instructions[i], text, (255, 255, 255), screen, 120, 400)\n",
    "    \n",
    "      \n",
    "        #Event Handling\n",
    "        click = False\n",
    "        for event in pygame.event.get():\n",
    "            if event.type == QUIT:\n",
    "                pygame.quit()\n",
    "                sys.exit()\n",
    "            if event.type == KEYDOWN:\n",
    "                if event.key == K_ESCAPE:\n",
    "                    running = False\n",
    "                # movement\n",
    "                if event.key == pygame.K_LEFT:\n",
    "                    xChange = -5\n",
    "                if event.key == pygame.K_RIGHT:\n",
    "                    xChange = 5\n",
    "                if event.key == pygame.K_SPACE and jump is False:\n",
    "                    jump = True\n",
    "                    yChange = 15\n",
    "                if event.key == pygame.K_UP:\n",
    "                    i += 1\n",
    "                if event.key == pygame.K_DOWN:\n",
    "                    i -= 1\n",
    "            if event.type == pygame.KEYUP:\n",
    "                if event.key == pygame.K_LEFT or event.key == pygame.K_RIGHT:\n",
    "                    xChange = 0\n",
    "            if event.type == MOUSEBUTTONDOWN:\n",
    "                if event.button == 1:\n",
    "                    click = True\n",
    "                    # print(mx, my)\n",
    "                    \n",
    "        # Set movement Values\n",
    "        x += xChange\n",
    "        if x <= 0:\n",
    "            x = 0\n",
    "        elif x >= 780:\n",
    "            x = 780\n",
    "            \n",
    "        if jump:\n",
    "            y -= yChange\n",
    "            yChange -= 1\n",
    "            if yChange < -15:\n",
    "                jump = False\n",
    "                yChange = 0\n",
    "        \n",
    "        #Display\n",
    "        Icon(icon, x, y)\n",
    "        pygame.display.update()\n",
    "        mainClock.tick(60) "
   ]
  },
  {
   "cell_type": "code",
   "execution_count": 18,
   "metadata": {},
   "outputs": [
    {
     "ename": "IndexError",
     "evalue": "list index out of range",
     "output_type": "error",
     "traceback": [
      "\u001b[0;31m---------------------------------------------------------------------------\u001b[0m",
      "\u001b[0;31mIndexError\u001b[0m                                Traceback (most recent call last)",
      "\u001b[0;32m<ipython-input-18-570d99833a4e>\u001b[0m in \u001b[0;36m<module>\u001b[0;34m\u001b[0m\n\u001b[1;32m      1\u001b[0m \u001b[0;31m# Game Loop\u001b[0m\u001b[0;34m\u001b[0m\u001b[0;34m\u001b[0m\u001b[0;34m\u001b[0m\u001b[0m\n\u001b[0;32m----> 2\u001b[0;31m \u001b[0mmain_menu\u001b[0m\u001b[0;34m(\u001b[0m\u001b[0miconX\u001b[0m\u001b[0;34m,\u001b[0m \u001b[0miconY\u001b[0m\u001b[0;34m)\u001b[0m\u001b[0;34m\u001b[0m\u001b[0;34m\u001b[0m\u001b[0m\n\u001b[0m",
      "\u001b[0;32m<ipython-input-13-8e236cd8b0ff>\u001b[0m in \u001b[0;36mmain_menu\u001b[0;34m(iconX, iconY)\u001b[0m\n\u001b[1;32m     28\u001b[0m         \u001b[0;32mif\u001b[0m \u001b[0mbutton_1\u001b[0m\u001b[0;34m.\u001b[0m\u001b[0mcollidepoint\u001b[0m\u001b[0;34m(\u001b[0m\u001b[0;34m(\u001b[0m\u001b[0mmx\u001b[0m\u001b[0;34m,\u001b[0m \u001b[0mmy\u001b[0m\u001b[0;34m)\u001b[0m\u001b[0;34m)\u001b[0m\u001b[0;34m:\u001b[0m\u001b[0;34m\u001b[0m\u001b[0;34m\u001b[0m\u001b[0m\n\u001b[1;32m     29\u001b[0m             \u001b[0;32mif\u001b[0m \u001b[0mclick\u001b[0m\u001b[0;34m:\u001b[0m\u001b[0;34m\u001b[0m\u001b[0;34m\u001b[0m\u001b[0m\n\u001b[0;32m---> 30\u001b[0;31m                 \u001b[0mlevel_select\u001b[0m\u001b[0;34m(\u001b[0m\u001b[0miconX\u001b[0m\u001b[0;34m,\u001b[0m \u001b[0miconY\u001b[0m\u001b[0;34m)\u001b[0m\u001b[0;34m\u001b[0m\u001b[0;34m\u001b[0m\u001b[0m\n\u001b[0m\u001b[1;32m     31\u001b[0m         \u001b[0;32mif\u001b[0m \u001b[0mbutton_2\u001b[0m\u001b[0;34m.\u001b[0m\u001b[0mcollidepoint\u001b[0m\u001b[0;34m(\u001b[0m\u001b[0;34m(\u001b[0m\u001b[0mmx\u001b[0m\u001b[0;34m,\u001b[0m \u001b[0mmy\u001b[0m\u001b[0;34m)\u001b[0m\u001b[0;34m)\u001b[0m\u001b[0;34m:\u001b[0m\u001b[0;34m\u001b[0m\u001b[0;34m\u001b[0m\u001b[0m\n\u001b[1;32m     32\u001b[0m             \u001b[0;32mif\u001b[0m \u001b[0mclick\u001b[0m\u001b[0;34m:\u001b[0m\u001b[0;34m\u001b[0m\u001b[0;34m\u001b[0m\u001b[0m\n",
      "\u001b[0;32m<ipython-input-14-61e5ba68d4bd>\u001b[0m in \u001b[0;36mlevel_select\u001b[0;34m(iconX, iconY)\u001b[0m\n\u001b[1;32m     57\u001b[0m         \u001b[0;32mif\u001b[0m \u001b[0mbuttonLevel_0\u001b[0m\u001b[0;34m.\u001b[0m\u001b[0mcollidepoint\u001b[0m\u001b[0;34m(\u001b[0m\u001b[0;34m(\u001b[0m\u001b[0mmx\u001b[0m\u001b[0;34m,\u001b[0m \u001b[0mmy\u001b[0m\u001b[0;34m)\u001b[0m\u001b[0;34m)\u001b[0m\u001b[0;34m:\u001b[0m\u001b[0;34m\u001b[0m\u001b[0;34m\u001b[0m\u001b[0m\n\u001b[1;32m     58\u001b[0m             \u001b[0;32mif\u001b[0m \u001b[0mclick\u001b[0m\u001b[0;34m:\u001b[0m\u001b[0;34m\u001b[0m\u001b[0;34m\u001b[0m\u001b[0m\n\u001b[0;32m---> 59\u001b[0;31m                 \u001b[0mlevel_0\u001b[0m\u001b[0;34m(\u001b[0m\u001b[0mplayerX\u001b[0m\u001b[0;34m,\u001b[0m \u001b[0mplayerY\u001b[0m\u001b[0;34m,\u001b[0m \u001b[0mxChange\u001b[0m\u001b[0;34m,\u001b[0m \u001b[0myChange\u001b[0m\u001b[0;34m)\u001b[0m\u001b[0;34m\u001b[0m\u001b[0;34m\u001b[0m\u001b[0m\n\u001b[0m\u001b[1;32m     60\u001b[0m         \u001b[0;32mif\u001b[0m \u001b[0mbuttonLevel_1\u001b[0m\u001b[0;34m.\u001b[0m\u001b[0mcollidepoint\u001b[0m\u001b[0;34m(\u001b[0m\u001b[0;34m(\u001b[0m\u001b[0mmx\u001b[0m\u001b[0;34m,\u001b[0m \u001b[0mmy\u001b[0m\u001b[0;34m)\u001b[0m\u001b[0;34m)\u001b[0m\u001b[0;34m:\u001b[0m\u001b[0;34m\u001b[0m\u001b[0;34m\u001b[0m\u001b[0m\n\u001b[1;32m     61\u001b[0m             \u001b[0;32mif\u001b[0m \u001b[0mclick\u001b[0m\u001b[0;34m:\u001b[0m\u001b[0;34m\u001b[0m\u001b[0;34m\u001b[0m\u001b[0m\n",
      "\u001b[0;32m<ipython-input-17-61a2ac69df26>\u001b[0m in \u001b[0;36mlevel_0\u001b[0;34m(x, y, xChange, yChange)\u001b[0m\n\u001b[1;32m     16\u001b[0m         \u001b[0;32mif\u001b[0m \u001b[0mi\u001b[0m \u001b[0;34m==\u001b[0m \u001b[0;36m0\u001b[0m\u001b[0;34m:\u001b[0m\u001b[0;34m\u001b[0m\u001b[0;34m\u001b[0m\u001b[0m\n\u001b[1;32m     17\u001b[0m             \u001b[0mdraw_text\u001b[0m\u001b[0;34m(\u001b[0m\u001b[0;34m\"Use the UP Arrow to continue reading...\"\u001b[0m\u001b[0;34m,\u001b[0m \u001b[0mfontSubHeader\u001b[0m\u001b[0;34m,\u001b[0m \u001b[0;34m(\u001b[0m\u001b[0;36m255\u001b[0m\u001b[0;34m,\u001b[0m \u001b[0;36m255\u001b[0m\u001b[0;34m,\u001b[0m \u001b[0;36m255\u001b[0m\u001b[0;34m)\u001b[0m\u001b[0;34m,\u001b[0m \u001b[0mscreen\u001b[0m\u001b[0;34m,\u001b[0m \u001b[0;36m120\u001b[0m\u001b[0;34m,\u001b[0m \u001b[0;36m200\u001b[0m\u001b[0;34m)\u001b[0m\u001b[0;34m\u001b[0m\u001b[0;34m\u001b[0m\u001b[0m\n\u001b[0;32m---> 18\u001b[0;31m         \u001b[0mdraw_text\u001b[0m\u001b[0;34m(\u001b[0m\u001b[0minstructions\u001b[0m\u001b[0;34m[\u001b[0m\u001b[0mi\u001b[0m\u001b[0;34m]\u001b[0m\u001b[0;34m,\u001b[0m \u001b[0mtext\u001b[0m\u001b[0;34m,\u001b[0m \u001b[0;34m(\u001b[0m\u001b[0;36m255\u001b[0m\u001b[0;34m,\u001b[0m \u001b[0;36m255\u001b[0m\u001b[0;34m,\u001b[0m \u001b[0;36m255\u001b[0m\u001b[0;34m)\u001b[0m\u001b[0;34m,\u001b[0m \u001b[0mscreen\u001b[0m\u001b[0;34m,\u001b[0m \u001b[0;36m120\u001b[0m\u001b[0;34m,\u001b[0m \u001b[0;36m400\u001b[0m\u001b[0;34m)\u001b[0m\u001b[0;34m\u001b[0m\u001b[0;34m\u001b[0m\u001b[0m\n\u001b[0m\u001b[1;32m     19\u001b[0m \u001b[0;34m\u001b[0m\u001b[0m\n\u001b[1;32m     20\u001b[0m \u001b[0;34m\u001b[0m\u001b[0m\n",
      "\u001b[0;31mIndexError\u001b[0m: list index out of range"
     ]
    }
   ],
   "source": [
    "# Game Loop\n",
    "main_menu(iconX, iconY)\n"
   ]
  },
  {
   "cell_type": "code",
   "execution_count": null,
   "metadata": {},
   "outputs": [],
   "source": [
    "''' Formatting changes to make:\n",
    "\n",
    "    Menu\n",
    "    -Start\n",
    "        -Level Select\n",
    "        -Level 0 (story intro, tutorial)\n",
    "    -Controls\n",
    "    -Credits\n",
    "    \n",
    "    add note about \"Hit Esc to go back\"\n",
    "    \n",
    "    Color scheme??\n",
    "'''"
   ]
  },
  {
   "cell_type": "code",
   "execution_count": null,
   "metadata": {},
   "outputs": [],
   "source": []
  }
 ],
 "metadata": {
  "kernelspec": {
   "display_name": "Python 3",
   "language": "python",
   "name": "python3"
  },
  "language_info": {
   "codemirror_mode": {
    "name": "ipython",
    "version": 3
   },
   "file_extension": ".py",
   "mimetype": "text/x-python",
   "name": "python",
   "nbconvert_exporter": "python",
   "pygments_lexer": "ipython3",
   "version": "3.8.5"
  }
 },
 "nbformat": 4,
 "nbformat_minor": 4
}
